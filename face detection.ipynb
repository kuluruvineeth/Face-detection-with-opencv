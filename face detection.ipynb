{
 "cells": [
  {
   "cell_type": "code",
   "execution_count": 1,
   "id": "passing-baking",
   "metadata": {},
   "outputs": [
    {
     "name": "stdout",
     "output_type": "stream",
     "text": [
      "4.5.1\n"
     ]
    }
   ],
   "source": [
    "import cv2\n",
    "print(cv2.__version__)"
   ]
  },
  {
   "cell_type": "code",
   "execution_count": 2,
   "id": "first-cedar",
   "metadata": {},
   "outputs": [],
   "source": [
    "# loading pre-trained model\n",
    "classifier = cv2.CascadeClassifier('haarcascade_frontalface_default.xml')"
   ]
  },
  {
   "cell_type": "code",
   "execution_count": 3,
   "id": "incomplete-windsor",
   "metadata": {},
   "outputs": [
    {
     "name": "stdout",
     "output_type": "stream",
     "text": [
      "[202 137 219 219]\n",
      "[235 225 156 156]\n"
     ]
    }
   ],
   "source": [
    "# this function will a list of bounding boxes for all faces detected in the photograph\n",
    "pixels = cv2.imread('test1.jpg')\n",
    "bboxes = classifier.detectMultiScale(pixels)\n",
    "\n",
    "# printing bounding box for each detected face\n",
    "for box in bboxes:\n",
    "    print(box)"
   ]
  },
  {
   "cell_type": "code",
   "execution_count": null,
   "id": "narrative-document",
   "metadata": {},
   "outputs": [],
   "source": [
    "# drawing rectangles for each detected face\n",
    "\n",
    "for box in bboxes:\n",
    "    x,y,width,height = box\n",
    "    x2,y2 = x+width,y+height\n",
    "    cv2.rectangle(pixels,(x,y),(x2,y2),(0,0,255),1)\n",
    "cv2.imshow('face detection',pixels)\n",
    "cv2.imwrite('f_test1.jpg',pixels)\n",
    "cv2.waitKey(0)\n",
    "cv2.destroyAllWindows()"
   ]
  },
  {
   "cell_type": "code",
   "execution_count": null,
   "id": "divine-relations",
   "metadata": {},
   "outputs": [],
   "source": [
    "# all code at place for one more photograph\n",
    "from cv2 import imread\n",
    "from cv2 import imshow\n",
    "from cv2 import imwrite\n",
    "from cv2 import waitKey\n",
    "from cv2 import destroyAllWindows\n",
    "from cv2 import CascadeClassifier\n",
    "from cv2 import rectangle\n",
    "\n",
    "pixels = imread('test2.jpg')\n",
    "classifier = CascadeClassifier('haarcascade_frontalface_default.xml')\n",
    "\n",
    "bboxes = classifier.detectMultiScale(pixels,1.05,8)\n",
    "for box in bboxes:\n",
    "    x,y,width,height = box\n",
    "    x2,y2 = x + width,y + height\n",
    "    rectangle(pixels,(x,y),(x2,y2),(0,0,255),1)\n",
    "    \n",
    "imshow('group faces detection',pixels)\n",
    "imwrite('f_test2.jpg',pixels)\n",
    "waitKey(0)\n",
    "destroyAllWindows()\n"
   ]
  },
  {
   "cell_type": "code",
   "execution_count": null,
   "id": "violent-citizenship",
   "metadata": {},
   "outputs": [],
   "source": []
  }
 ],
 "metadata": {
  "kernelspec": {
   "display_name": "Python 3",
   "language": "python",
   "name": "python3"
  },
  "language_info": {
   "codemirror_mode": {
    "name": "ipython",
    "version": 3
   },
   "file_extension": ".py",
   "mimetype": "text/x-python",
   "name": "python",
   "nbconvert_exporter": "python",
   "pygments_lexer": "ipython3",
   "version": "3.7.5"
  }
 },
 "nbformat": 4,
 "nbformat_minor": 5
}
